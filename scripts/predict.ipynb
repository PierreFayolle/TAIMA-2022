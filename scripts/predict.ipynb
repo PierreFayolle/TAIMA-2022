{
 "cells": [
  {
   "cell_type": "code",
   "execution_count": 14,
   "metadata": {},
   "outputs": [
    {
     "name": "stdout",
     "output_type": "stream",
     "text": [
      "{'class': 'cat', 'confidence': '0.7460299730300903'}\n"
     ]
    }
   ],
   "source": [
    "import torch\n",
    "from utils import *\n",
    "import warnings\n",
    "from PIL import Image\n",
    "from torchvision import transforms\n",
    "#from torchsummary import summary\n",
    "\n",
    "def image_transform(imagepath):\n",
    "    test_transforms = transforms.Compose([transforms.Resize(255),\n",
    "                                      transforms.CenterCrop(224),\n",
    "                                      transforms.ToTensor(),\n",
    "                                      transforms.Normalize([0.485, 0.456, 0.406],\n",
    "                                                           [0.229, 0.224, 0.225])])\n",
    "    image = Image.open(imagepath)\n",
    "    imagetensor = test_transforms(image)\n",
    "    return imagetensor\n",
    "\n",
    "\n",
    "def predict(imagepath, verbose=False):\n",
    "    if not verbose:\n",
    "        warnings.filterwarnings('ignore')\n",
    "    model_path = 'models/catvdog.pth'\n",
    "    try:\n",
    "        checks_if_model_is_loaded = type(model)\n",
    "    except:\n",
    "        model = load_model(model_path)\n",
    "    model.eval()\n",
    "    #summary(model, input_size=(3,244,244))\n",
    "    if verbose:\n",
    "        print(\"Model Loaded..\")\n",
    "    image = image_transform(imagepath)\n",
    "    image1 = image[None,:,:,:]\n",
    "    ps=torch.exp(model(image1))\n",
    "    topconf, topclass = ps.topk(1, dim=1)\n",
    "    if topclass.item() == 1:\n",
    "        return {'class':'dog','confidence':str(topconf.item())}\n",
    "    else:\n",
    "        return {'class':'cat','confidence':str(topconf.item())}\n",
    "\n",
    "#print(predict('data/dog1.jpeg'))\n",
    "#print(predict('data/cat1.jpeg'))\n",
    "print(predict('test2.jpeg'))\n",
    "#print(predict('data/cat2.jpeg'))"
   ]
  }
 ],
 "metadata": {
  "language_info": {
   "name": "python"
  },
  "orig_nbformat": 4
 },
 "nbformat": 4,
 "nbformat_minor": 2
}
